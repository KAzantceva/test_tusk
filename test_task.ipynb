{
 "cells": [
  {
   "cell_type": "code",
   "execution_count": 57,
   "metadata": {},
   "outputs": [],
   "source": [
    "import pandas as pd\n",
    "import psycopg2 \n",
    "from neo4j import GraphDatabase"
   ]
  },
  {
   "cell_type": "code",
   "execution_count": 58,
   "metadata": {},
   "outputs": [],
   "source": [
    "DBNAME = 'test_db'\n",
    "USER = 'neo4j'\n",
    "PASSWORD = 'Testing'\n",
    "HOST = 'localhost'\n",
    "PORT = 7687"
   ]
  },
  {
   "cell_type": "code",
   "execution_count": 59,
   "metadata": {},
   "outputs": [],
   "source": [
    "#print(row['id события'], row['ФИО участника события 1'], row['ФИО участника события 2'])\n",
    "\n",
    "def write_row(tx, row, index):\n",
    "    event_id = row['id события']\n",
    "    user_1 = row['ФИО участника события 1']\n",
    "    user_2 = row['ФИО участника события 2']\n",
    "   #tx.run(f'create (event{index}:Users {{EventId:\"{event_id}\", User1:\"{user_1}\", User2:\"{user_2}\"}})')\n",
    "    tx.run(f'create (user_1_{index}:User {{EventId:\"{event_id}\", Fio:\"{user_1}\"}})')\n",
    "    tx.run(f'create (user_2_{index}:User {{EventId:\"{event_id}\", Fio:\"{user_2}\"}})')\n",
    "    tx.run(f'create (user_1_{index})-[:HAS_EVENT]->(user_2_{index})')"
   ]
  },
  {
   "cell_type": "code",
   "execution_count": 60,
   "metadata": {},
   "outputs": [],
   "source": [
    "tt_database = pd.read_csv('data_test.csv', sep=';')\n",
    "tt_database = tt_database.reset_index()\n",
    "connection = GraphDatabase.driver(f'bolt://{HOST}:{PORT}', auth=(USER, PASSWORD))\n",
    "with connection.session(database=\"neo4j\") as session:\n",
    "    for index, row in tt_database.iterrows():\n",
    "        session.execute_write(write_row, row, index)"
   ]
  }
 ],
 "metadata": {
  "kernelspec": {
   "display_name": "Python 3",
   "language": "python",
   "name": "python3"
  },
  "language_info": {
   "codemirror_mode": {
    "name": "ipython",
    "version": 3
   },
   "file_extension": ".py",
   "mimetype": "text/x-python",
   "name": "python",
   "nbconvert_exporter": "python",
   "pygments_lexer": "ipython3",
   "version": "3.9.10"
  },
  "orig_nbformat": 4
 },
 "nbformat": 4,
 "nbformat_minor": 2
}
